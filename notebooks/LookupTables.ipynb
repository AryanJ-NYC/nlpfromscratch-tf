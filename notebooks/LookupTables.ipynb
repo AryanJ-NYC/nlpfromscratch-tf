{
 "cells": [
  {
   "cell_type": "code",
   "execution_count": 11,
   "metadata": {
    "collapsed": true
   },
   "outputs": [],
   "source": [
    "import tensorflow as tf\n",
    "import numpy as np\n",
    "sess = tf.InteractiveSession()"
   ]
  },
  {
   "cell_type": "code",
   "execution_count": 27,
   "metadata": {
    "collapsed": false
   },
   "outputs": [
    {
     "name": "stdout",
     "output_type": "stream",
     "text": [
      "Tensor(\"hash_table_Size_3:0\", shape=(), dtype=int64)\n"
     ]
    }
   ],
   "source": [
    "vocab = tf.contrib.lookup.string_to_index_table_from_file(\n",
    "    vocabulary_file=\"vocab.txt\", num_oov_buckets=0, default_value=1)\n",
    "\n",
    "vocab_inv = tf.contrib.lookup.index_to_string_table_from_file(\n",
    "    vocabulary_file=\"vocab.txt\", default_value=\"<UNK>\")\n",
    "\n",
    "print vocab.size()\n",
    "tf.tables_initializer().run()\n",
    "sess.run(tf.tables_initializer()) # make sure to call the table initializer"
   ]
  },
  {
   "cell_type": "code",
   "execution_count": 24,
   "metadata": {
    "collapsed": false
   },
   "outputs": [
    {
     "name": "stdout",
     "output_type": "stream",
     "text": [
      "['<PAD>' 'the' 'quick' 'brown' 'fox' 'jumped' 'over' 'the' 'lazy' 'dog' '.']\n",
      "[ 0 10  9  3  5  6  8 10  1  4  2]\n",
      "['<PAD>' 'the' 'quick' 'brown' 'fox' 'jumped' 'over' 'the' '<UNK>' 'dog'\n",
      " '.']\n"
     ]
    }
   ],
   "source": [
    "sentence = tf.constant('<PAD> the quick brown fox jumped over the lazy dog .'.split(), tf.string)\n",
    "print sentence.eval()\n",
    "idx = sess.run(vocab.lookup(sentence))\n",
    "\n",
    "print idx\n",
    "idxs = tf.constant(idx)\n",
    "strings = sess.run(vocab_inv.lookup(idxs))\n",
    "print strings\n"
   ]
  },
  {
   "cell_type": "code",
   "execution_count": null,
   "metadata": {
    "collapsed": true
   },
   "outputs": [],
   "source": []
  }
 ],
 "metadata": {
  "kernelspec": {
   "display_name": "Python 2",
   "language": "python",
   "name": "python2"
  },
  "language_info": {
   "codemirror_mode": {
    "name": "ipython",
    "version": 2
   },
   "file_extension": ".py",
   "mimetype": "text/x-python",
   "name": "python",
   "nbconvert_exporter": "python",
   "pygments_lexer": "ipython2",
   "version": "2.7.13"
  }
 },
 "nbformat": 4,
 "nbformat_minor": 2
}
